{
 "cells": [
  {
   "cell_type": "code",
   "execution_count": 6,
   "metadata": {},
   "outputs": [],
   "source": [
    "import os\n",
    "from xml.etree.ElementTree import ElementTree, Element, SubElement, tostring, parse\n",
    "\n",
    "# Create a new directory\n",
    "new_dir = 'segmented_files'\n",
    "os.makedirs(new_dir, exist_ok=True)\n",
    "\n",
    "# Get a list of all files in the data directory\n",
    "data_dir = 'data'\n",
    "filenames = os.listdir(data_dir)\n",
    "\n",
    "for filename in filenames:\n",
    "    # Skip non-XML files\n",
    "    if not filename.endswith('.xml'):\n",
    "        continue\n",
    "\n",
    "    # Parse the XML file\n",
    "    tree = parse(os.path.join(data_dir, filename))\n",
    "    root = tree.getroot()\n",
    "\n",
    "    # Find the first <debateinfo> element in the entire XML document\n",
    "    debateinfos = root.findall('.//debateinfo')\n",
    "\n",
    "    if not debateinfos:\n",
    "        raise ValueError(f\"No <debateinfo> element found in the XML document: {filename}\")\n",
    "\n",
    "    debateinfo = debateinfos[0]\n",
    "\n",
    "    # Find all <speech> elements\n",
    "    speeches = root.findall('.//speech')\n",
    "\n",
    "    # Initialize a counter for the speech segments\n",
    "    counter = 1\n",
    "\n",
    "    for speech in speeches:\n",
    "        # Create a new XML file with the <debateinfo> and <speech>\n",
    "        new_root = Element('root')\n",
    "        new_root.append(debateinfo)\n",
    "        new_root.append(speech)\n",
    "\n",
    "        # Save the new XML file with a unique name in the new directory\n",
    "        new_tree = ElementTree(new_root)\n",
    "        new_tree.write(os.path.join(new_dir, f'{filename[:-4]}_seg_{counter}.xml'))\n",
    "\n",
    "        # Increment the counter\n",
    "        counter += 1"
   ]
  }
 ],
 "metadata": {
  "kernelspec": {
   "display_name": "Python 3",
   "language": "python",
   "name": "python3"
  },
  "language_info": {
   "codemirror_mode": {
    "name": "ipython",
    "version": 3
   },
   "file_extension": ".py",
   "mimetype": "text/x-python",
   "name": "python",
   "nbconvert_exporter": "python",
   "pygments_lexer": "ipython3",
   "version": "3.11.4"
  }
 },
 "nbformat": 4,
 "nbformat_minor": 2
}
