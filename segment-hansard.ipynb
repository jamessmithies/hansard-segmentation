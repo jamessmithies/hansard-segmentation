{
 "cells": [
  {
   "cell_type": "code",
   "execution_count": null,
   "metadata": {},
   "outputs": [],
   "source": [
    "import os\n",
    "import uuid\n",
    "from xml.etree.ElementTree import ElementTree, Element, SubElement, tostring, parse\n",
    "\n",
    "# Create a new directory\n",
    "new_dir = 'segmented_files'\n",
    "os.makedirs(new_dir, exist_ok=True)\n",
    "\n",
    "# Parse the XML file\n",
    "tree = parse('data/19010509_reps_1_1.xml')\n",
    "root = tree.getroot()\n",
    "\n",
    "# Find all <para> elements\n",
    "paras = root.findall('.//para')\n",
    "\n",
    "for para in paras:\n",
    "    # Find the parent <talk> element\n",
    "    talk = para.find('..')\n",
    "\n",
    "    if talk is None:\n",
    "        print(\"Skipping a <para> without a parent <talk>\")\n",
    "        continue\n",
    "\n",
    "    # Find the <talker> element within the <talk>\n",
    "    talker = talk.find('./talker')\n",
    "\n",
    "    if talker is None:\n",
    "        raise ValueError(\"No <talker> element found for a <para>\")\n",
    "\n",
    "    # Create a new XML file with the <talker> and <para>\n",
    "    new_root = Element('root')\n",
    "    new_root.append(talker)\n",
    "    new_root.append(para)\n",
    "\n",
    "    # Save the new XML file with a unique name in the new directory\n",
    "    new_tree = ElementTree(new_root)\n",
    "    new_tree.write(os.path.join(new_dir, f'{uuid.uuid4()}.xml'))"
   ]
  }
 ],
 "metadata": {
  "kernelspec": {
   "display_name": "Python 3",
   "language": "python",
   "name": "python3"
  },
  "language_info": {
   "codemirror_mode": {
    "name": "ipython",
    "version": 3
   },
   "file_extension": ".py",
   "mimetype": "text/x-python",
   "name": "python",
   "nbconvert_exporter": "python",
   "pygments_lexer": "ipython3",
   "version": "3.11.4"
  }
 },
 "nbformat": 4,
 "nbformat_minor": 2
}
